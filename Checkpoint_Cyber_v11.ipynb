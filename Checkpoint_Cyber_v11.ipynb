{
  "cells": [
    {
      "cell_type": "markdown",
      "metadata": {
        "id": "view-in-github",
        "colab_type": "text"
      },
      "source": [
        "<a href=\"https://colab.research.google.com/github/henricobela/checkpoint1_Cyber2022/blob/main/Checkpoint_Cyber_v11.ipynb\" target=\"_parent\"><img src=\"https://colab.research.google.com/assets/colab-badge.svg\" alt=\"Open In Colab\"/></a>"
      ]
    },
    {
      "cell_type": "markdown",
      "metadata": {
        "id": "mGnJYetkrRmU"
      },
      "source": [
        "#Sejam bem-vindos a minha API para INTERPOL!\n",
        "####Meu Nome é Henrico, sou aluno da FIAP (RM95985)\n",
        "--------------------------------------------------------------------------------\n",
        "#Vamos começar?\n",
        "\n",
        "####Esta aplicação trata-se de uma pagina na web criada com streamlit, utilizando a linguagem python, fuzzywuzzy, ngrok e regex. Ela faz uma verificação na base de dados da Interpol (fictícia), e uma verificação na base de dados de passaportes proibidos da França (fictícia). Com essa verificação é definida a entrada ou não de uma certa pessoa á França!\n",
        "--------------------------------------------------------------------------------\n",
        "\n",
        "#####Para começar\n",
        "\n",
        "#####Primeiro vamos instalar todos os recursos necessários para a realização da API, instalando FuzzyWuzzy, Ngrok, Streamlit/ace.\n",
        "\n",
        "--------------------------------------------------------------------------------\n"
      ]
    },
    {
      "cell_type": "markdown",
      "metadata": {
        "id": "tLOOc9SbrV6K"
      },
      "source": [
        "#1º Instalando recursos"
      ]
    },
    {
      "cell_type": "code",
      "execution_count": 1,
      "metadata": {
        "id": "3tK_v_yCajDQ",
        "colab": {
          "base_uri": "https://localhost:8080/"
        },
        "outputId": "4c4fc908-8e03-4337-96cd-675879227e63"
      },
      "outputs": [
        {
          "output_type": "stream",
          "name": "stdout",
          "text": [
            "\u001b[K     |████████████████████████████████| 10.1 MB 3.7 MB/s \n",
            "\u001b[K     |████████████████████████████████| 76 kB 3.6 MB/s \n",
            "\u001b[K     |████████████████████████████████| 164 kB 35.6 MB/s \n",
            "\u001b[K     |████████████████████████████████| 111 kB 57.2 MB/s \n",
            "\u001b[K     |████████████████████████████████| 181 kB 44.0 MB/s \n",
            "\u001b[K     |████████████████████████████████| 4.3 MB 23.9 MB/s \n",
            "\u001b[K     |████████████████████████████████| 63 kB 1.4 MB/s \n",
            "\u001b[K     |████████████████████████████████| 131 kB 55.5 MB/s \n",
            "\u001b[K     |████████████████████████████████| 428 kB 51.5 MB/s \n",
            "\u001b[K     |████████████████████████████████| 130 kB 55.6 MB/s \n",
            "\u001b[K     |████████████████████████████████| 793 kB 45.6 MB/s \n",
            "\u001b[K     |████████████████████████████████| 381 kB 51.1 MB/s \n",
            "\u001b[?25h  Building wheel for blinker (setup.py) ... \u001b[?25l\u001b[?25hdone\n",
            "\u001b[31mERROR: pip's dependency resolver does not currently take into account all the packages that are installed. This behaviour is the source of the following dependency conflicts.\n",
            "jupyter-console 5.2.0 requires prompt-toolkit<2.0.0,>=1.0.0, but you have prompt-toolkit 3.0.29 which is incompatible.\n",
            "google-colab 1.0.0 requires ipykernel~=4.10, but you have ipykernel 6.13.0 which is incompatible.\n",
            "google-colab 1.0.0 requires ipython~=5.5.0, but you have ipython 7.33.0 which is incompatible.\n",
            "google-colab 1.0.0 requires tornado~=5.1.0; python_version >= \"3.0\", but you have tornado 6.1 which is incompatible.\u001b[0m\n"
          ]
        }
      ],
      "source": [
        "!pip install -q streamlit"
      ]
    },
    {
      "cell_type": "code",
      "execution_count": 2,
      "metadata": {
        "id": "ig42Itueam0b",
        "colab": {
          "base_uri": "https://localhost:8080/"
        },
        "outputId": "c696fb59-aa65-424b-d58f-7c0824f87e17"
      },
      "outputs": [
        {
          "output_type": "stream",
          "name": "stdout",
          "text": [
            "\u001b[K     |████████████████████████████████| 3.6 MB 3.6 MB/s \n",
            "\u001b[?25h"
          ]
        }
      ],
      "source": [
        "!pip install -q streamlit-ace"
      ]
    },
    {
      "cell_type": "code",
      "execution_count": 3,
      "metadata": {
        "id": "4NaBr7O6kehZ",
        "colab": {
          "base_uri": "https://localhost:8080/"
        },
        "outputId": "6a01f95f-2997-4afd-d8ad-10095c9bc3cb"
      },
      "outputs": [
        {
          "output_type": "stream",
          "name": "stdout",
          "text": [
            "\u001b[?25l\r\u001b[K     |██████▌                         | 10 kB 18.3 MB/s eta 0:00:01\r\u001b[K     |█████████████                   | 20 kB 12.4 MB/s eta 0:00:01\r\u001b[K     |███████████████████▌            | 30 kB 9.4 MB/s eta 0:00:01\r\u001b[K     |██████████████████████████      | 40 kB 3.6 MB/s eta 0:00:01\r\u001b[K     |████████████████████████████████| 50 kB 2.5 MB/s \n",
            "\u001b[?25h  Building wheel for python-levenshtein (setup.py) ... \u001b[?25l\u001b[?25hdone\n"
          ]
        }
      ],
      "source": [
        "!pip install -q fuzzywuzzy[speedup]"
      ]
    },
    {
      "cell_type": "code",
      "execution_count": 4,
      "metadata": {
        "id": "2gqQSPPZk7SS",
        "colab": {
          "base_uri": "https://localhost:8080/"
        },
        "outputId": "35c0f3e0-6495-441d-b1e5-af9893b8033a"
      },
      "outputs": [
        {
          "output_type": "stream",
          "name": "stdout",
          "text": [
            "\u001b[?25l\r\u001b[K     |▍                               | 10 kB 15.5 MB/s eta 0:00:01\r\u001b[K     |▉                               | 20 kB 19.0 MB/s eta 0:00:01\r\u001b[K     |█▎                              | 30 kB 9.5 MB/s eta 0:00:01\r\u001b[K     |█▊                              | 40 kB 3.7 MB/s eta 0:00:01\r\u001b[K     |██▏                             | 51 kB 3.4 MB/s eta 0:00:01\r\u001b[K     |██▋                             | 61 kB 4.0 MB/s eta 0:00:01\r\u001b[K     |███                             | 71 kB 4.4 MB/s eta 0:00:01\r\u001b[K     |███▌                            | 81 kB 4.5 MB/s eta 0:00:01\r\u001b[K     |████                            | 92 kB 5.0 MB/s eta 0:00:01\r\u001b[K     |████▍                           | 102 kB 4.3 MB/s eta 0:00:01\r\u001b[K     |████▉                           | 112 kB 4.3 MB/s eta 0:00:01\r\u001b[K     |█████▎                          | 122 kB 4.3 MB/s eta 0:00:01\r\u001b[K     |█████▊                          | 133 kB 4.3 MB/s eta 0:00:01\r\u001b[K     |██████▏                         | 143 kB 4.3 MB/s eta 0:00:01\r\u001b[K     |██████▋                         | 153 kB 4.3 MB/s eta 0:00:01\r\u001b[K     |███████                         | 163 kB 4.3 MB/s eta 0:00:01\r\u001b[K     |███████▌                        | 174 kB 4.3 MB/s eta 0:00:01\r\u001b[K     |████████                        | 184 kB 4.3 MB/s eta 0:00:01\r\u001b[K     |████████▍                       | 194 kB 4.3 MB/s eta 0:00:01\r\u001b[K     |████████▉                       | 204 kB 4.3 MB/s eta 0:00:01\r\u001b[K     |█████████▎                      | 215 kB 4.3 MB/s eta 0:00:01\r\u001b[K     |█████████▊                      | 225 kB 4.3 MB/s eta 0:00:01\r\u001b[K     |██████████▏                     | 235 kB 4.3 MB/s eta 0:00:01\r\u001b[K     |██████████▌                     | 245 kB 4.3 MB/s eta 0:00:01\r\u001b[K     |███████████                     | 256 kB 4.3 MB/s eta 0:00:01\r\u001b[K     |███████████▍                    | 266 kB 4.3 MB/s eta 0:00:01\r\u001b[K     |███████████▉                    | 276 kB 4.3 MB/s eta 0:00:01\r\u001b[K     |████████████▎                   | 286 kB 4.3 MB/s eta 0:00:01\r\u001b[K     |████████████▊                   | 296 kB 4.3 MB/s eta 0:00:01\r\u001b[K     |█████████████▏                  | 307 kB 4.3 MB/s eta 0:00:01\r\u001b[K     |█████████████▋                  | 317 kB 4.3 MB/s eta 0:00:01\r\u001b[K     |██████████████                  | 327 kB 4.3 MB/s eta 0:00:01\r\u001b[K     |██████████████▌                 | 337 kB 4.3 MB/s eta 0:00:01\r\u001b[K     |███████████████                 | 348 kB 4.3 MB/s eta 0:00:01\r\u001b[K     |███████████████▍                | 358 kB 4.3 MB/s eta 0:00:01\r\u001b[K     |███████████████▉                | 368 kB 4.3 MB/s eta 0:00:01\r\u001b[K     |████████████████▎               | 378 kB 4.3 MB/s eta 0:00:01\r\u001b[K     |████████████████▊               | 389 kB 4.3 MB/s eta 0:00:01\r\u001b[K     |█████████████████▏              | 399 kB 4.3 MB/s eta 0:00:01\r\u001b[K     |█████████████████▋              | 409 kB 4.3 MB/s eta 0:00:01\r\u001b[K     |██████████████████              | 419 kB 4.3 MB/s eta 0:00:01\r\u001b[K     |██████████████████▌             | 430 kB 4.3 MB/s eta 0:00:01\r\u001b[K     |███████████████████             | 440 kB 4.3 MB/s eta 0:00:01\r\u001b[K     |███████████████████▍            | 450 kB 4.3 MB/s eta 0:00:01\r\u001b[K     |███████████████████▉            | 460 kB 4.3 MB/s eta 0:00:01\r\u001b[K     |████████████████████▎           | 471 kB 4.3 MB/s eta 0:00:01\r\u001b[K     |████████████████████▋           | 481 kB 4.3 MB/s eta 0:00:01\r\u001b[K     |█████████████████████           | 491 kB 4.3 MB/s eta 0:00:01\r\u001b[K     |█████████████████████▌          | 501 kB 4.3 MB/s eta 0:00:01\r\u001b[K     |██████████████████████          | 512 kB 4.3 MB/s eta 0:00:01\r\u001b[K     |██████████████████████▍         | 522 kB 4.3 MB/s eta 0:00:01\r\u001b[K     |██████████████████████▉         | 532 kB 4.3 MB/s eta 0:00:01\r\u001b[K     |███████████████████████▎        | 542 kB 4.3 MB/s eta 0:00:01\r\u001b[K     |███████████████████████▊        | 552 kB 4.3 MB/s eta 0:00:01\r\u001b[K     |████████████████████████▏       | 563 kB 4.3 MB/s eta 0:00:01\r\u001b[K     |████████████████████████▋       | 573 kB 4.3 MB/s eta 0:00:01\r\u001b[K     |█████████████████████████       | 583 kB 4.3 MB/s eta 0:00:01\r\u001b[K     |█████████████████████████▌      | 593 kB 4.3 MB/s eta 0:00:01\r\u001b[K     |██████████████████████████      | 604 kB 4.3 MB/s eta 0:00:01\r\u001b[K     |██████████████████████████▍     | 614 kB 4.3 MB/s eta 0:00:01\r\u001b[K     |██████████████████████████▉     | 624 kB 4.3 MB/s eta 0:00:01\r\u001b[K     |███████████████████████████▎    | 634 kB 4.3 MB/s eta 0:00:01\r\u001b[K     |███████████████████████████▊    | 645 kB 4.3 MB/s eta 0:00:01\r\u001b[K     |████████████████████████████▏   | 655 kB 4.3 MB/s eta 0:00:01\r\u001b[K     |████████████████████████████▋   | 665 kB 4.3 MB/s eta 0:00:01\r\u001b[K     |█████████████████████████████   | 675 kB 4.3 MB/s eta 0:00:01\r\u001b[K     |█████████████████████████████▌  | 686 kB 4.3 MB/s eta 0:00:01\r\u001b[K     |██████████████████████████████  | 696 kB 4.3 MB/s eta 0:00:01\r\u001b[K     |██████████████████████████████▍ | 706 kB 4.3 MB/s eta 0:00:01\r\u001b[K     |██████████████████████████████▊ | 716 kB 4.3 MB/s eta 0:00:01\r\u001b[K     |███████████████████████████████▏| 727 kB 4.3 MB/s eta 0:00:01\r\u001b[K     |███████████████████████████████▋| 737 kB 4.3 MB/s eta 0:00:01\r\u001b[K     |████████████████████████████████| 745 kB 4.3 MB/s \n",
            "\u001b[?25h  Building wheel for pyngrok (setup.py) ... \u001b[?25l\u001b[?25hdone\n"
          ]
        }
      ],
      "source": [
        "!pip install -q pyngrok"
      ]
    },
    {
      "cell_type": "markdown",
      "metadata": {
        "id": "MuP_kwylrZ43"
      },
      "source": [
        "##2º - Criando aplicativo do streamlit para gerar a pagina web\n"
      ]
    },
    {
      "cell_type": "code",
      "execution_count": 5,
      "metadata": {
        "id": "HGUCMre3axSP"
      },
      "outputs": [],
      "source": [
        "!streamlit run app.py &>/dev/null&"
      ]
    },
    {
      "cell_type": "markdown",
      "metadata": {
        "id": "tE2J3WIirZQo"
      },
      "source": [
        "##3º - Importando a biblioteca NGROK"
      ]
    },
    {
      "cell_type": "code",
      "execution_count": 6,
      "metadata": {
        "id": "E_vN3HKtlKMk"
      },
      "outputs": [],
      "source": [
        "from pyngrok import ngrok"
      ]
    },
    {
      "cell_type": "markdown",
      "metadata": {
        "id": "7FiemIaTrgyz"
      },
      "source": [
        "##4º Pegando os endpoints"
      ]
    },
    {
      "cell_type": "code",
      "source": [
        "import requests as r\n",
        "\n",
        "ALL_ENDPOINTS = {\n",
        "    \"bra\": \"https://cspinheiro.github.io/bra2.json\",\n",
        "    \"fra\": \"https://henricobela.github.io/fra.json\",\n",
        "    \"ago\": \"https://the-icaro.github.io/ago.json\",\n",
        "    \"ita\": \"https://isabellitankian.github.io/ita.json\",\n",
        "    \"aus\": \"https://cesarnorena.github.io/aus.json\",\n",
        "    \"ind\": \"https://eduardomatoss.github.io/ind.json\",\n",
        "    \"mng\": \"https://emgabrielly.github.io/mng.json\",\n",
        "    \"can\": \"https://educunhamxk.github.io/CAN.json\",\n",
        "    \"grc\": \"https://dalcol99.github.io/grc.json\",\n",
        "    \"hun\": \"https://guhdalla.github.io/hun.json\",\n",
        "    \"arg\": \"https://kndhvh.github.io/arg.json\",\n",
        "    \"irl\": \"https://victorswory.github.io/irl.json\",\n",
        "    \"npl\": \"https://rodrigofer89.github.io/npl.json\",\n",
        "    \"irq\": \"https://felps2003.github.io/irq.json\",\n",
        "    \"bel\": \"https://rafael-pereira-silva.github.io/bel.json\",\n",
        "    \"nic\": \"https://rafael-pereira-silva.github.io/bel.json\",\n",
        "    \"prt\": \"https://0verthrive.github.io/prt.json\",\n",
        "    \"mdv\": \"https://jluizgomes.github.io/mdv.json\",\n",
        "    \"col\": \"https://caiogoes.github.io/col.json\",\n",
        "    \"hnd\": \"https://ricardoaugu.github.io/excel-to-json.json\",\n",
        "    \"pry\": \"https://danielthelink.github.io/pry.json\",\n",
        "}\n",
        "\n",
        "def allEndpoints(endpoint: str):\n",
        "  link = ALL_ENDPOINTS[endpoint]\n",
        "  resp = r.get(link)\n",
        "  get_pais = lambda pais: str(pais[endpoint])\n",
        "  passports = map(get_pais, resp.json()[endpoint])\n",
        "\n",
        "  return list(passports)"
      ],
      "metadata": {
        "id": "h4ZFSajI4DBa"
      },
      "execution_count": 7,
      "outputs": []
    },
    {
      "cell_type": "markdown",
      "source": [
        "##5º Aplicação\n"
      ],
      "metadata": {
        "id": "wie3fYpv3q6t"
      }
    },
    {
      "cell_type": "code",
      "execution_count": 79,
      "metadata": {
        "colab": {
          "base_uri": "https://localhost:8080/"
        },
        "id": "oQGTYFasa01i",
        "outputId": "868c8f9a-8811-4d49-eb93-142667dc5724"
      },
      "outputs": [
        {
          "output_type": "stream",
          "name": "stdout",
          "text": [
            "Overwriting app.py\n"
          ]
        }
      ],
      "source": [
        "#criando o arquivo de aplicação .py\n",
        "%%writefile app.py  \n",
        "import streamlit as st            #importando streamlit e setando como st\n",
        "import re                         #importando o regex\n",
        "from fuzzywuzzy import process    #importando process do fuzzy\n",
        "import json                       #importando json\n",
        "import requests as r              #importando requests\n",
        "\n",
        "\n",
        "nameData = r.get(\"https://cspinheiro.github.io/interpol.json\")\n",
        "passportData = r.get(\"https://henricobela.github.io/fra.json\")\n",
        "\n",
        "ALL_ENDPOINTS = {\n",
        "    \"bra\": \"https://cspinheiro.github.io/bra2.json\",\n",
        "    \"fra\": \"https://henricobela.github.io/fra.json\",\n",
        "    \"ago\": \"https://the-icaro.github.io/ago.json\",\n",
        "    \"ita\": \"https://isabellitankian.github.io/ita.json\",\n",
        "    \"aus\": \"https://cesarnorena.github.io/aus.json\",\n",
        "    \"ind\": \"https://eduardomatoss.github.io/ind.json\",\n",
        "    \"mng\": \"https://emgabrielly.github.io/mng.json\",\n",
        "    \"can\": \"https://educunhamxk.github.io/CAN.json\",\n",
        "    \"grc\": \"https://dalcol99.github.io/grc.json\",\n",
        "    \"hun\": \"https://guhdalla.github.io/hun.json\",\n",
        "    \"arg\": \"https://kndhvh.github.io/arg.json\",\n",
        "    \"irl\": \"https://victorswory.github.io/irl.json\",\n",
        "    \"npl\": \"https://rodrigofer89.github.io/npl.json\",\n",
        "    \"irq\": \"https://felps2003.github.io/irq.json\",\n",
        "    \"bel\": \"https://rafael-pereira-silva.github.io/bel.json\",\n",
        "    \"nic\": \"https://rafael-pereira-silva.github.io/bel.json\",\n",
        "    \"prt\": \"https://0verthrive.github.io/prt.json\",\n",
        "    \"mdv\": \"https://jluizgomes.github.io/mdv.json\",\n",
        "    \"col\": \"https://caiogoes.github.io/col.json\",\n",
        "    \"hnd\": \"https://ricardoaugu.github.io/excel-to-json.json\",\n",
        "    \"pry\": \"https://danielthelink.github.io/pry.json\",\n",
        "}\n",
        "\n",
        "def allEndpoints(endpoint: str):\n",
        "  link = ALL_ENDPOINTS[endpoint]\n",
        "  resp = r.get(link)\n",
        "  get_pais = lambda pais: str(pais[endpoint])\n",
        "  passports = map(get_pais, resp.json()[endpoint])\n",
        "\n",
        "  return list(passports)\n",
        "\n",
        "\n",
        "\n",
        "def main():                                                                       #define a função que cria webpage\n",
        "  nameData = r.get(\"https://cspinheiro.github.io/interpol.json\")                  #consome json dos nomes da interpol e guarda na variavel nameDataJson\n",
        "  passportData = r.get(\"https://henricobela.github.io/fra.json\")                   #consome json da França com numeros de passaportes e salva na variavel fraDataJson\n",
        "\n",
        "  def verifyNamesInterpol(names):                                                 #define a função de verificação dos nomes no endpoint da interpol\n",
        "    invalidNames = nameData.json()[\"interpol\"]                                    #salva na variavel invalidNames tudo que tiver interpol no arquivo json\n",
        "    invalid = []                                                                  #lista invalid vazia\n",
        "\n",
        "    extraction = process.extract(names, invalidNames)                             #salva na variavel extraction, utilizando o fuzzy para extrair os nomes do endpoint\n",
        "\n",
        "    for x in extraction:                                                          #laço for para cada elemento \"x\" na variavel extraction - faça:\n",
        "      if x[1] >= 76:                                                              #condição if para threshold acima ou igual da porcentagem de 80\n",
        "        invalid.append(x)                                                         #acrescenta na lista vazia invalid o elemento \"x\"\n",
        "      if len(invalid) == 0:                                                       #condição if para o comprimento da lista invalid comparando se for 0\n",
        "        return \"Allow\"                                                            #resultado da comparação se for verdadeira retorna internamente \"Allow\"\n",
        "      return \"Deny\"                                                               #se o resultado da condição for falso, retorna internamente \"Deny\"\n",
        "\n",
        "\n",
        "\n",
        "  def verifyPassportNmbr(passportNmbr):                                           #define a função que verifica os numeros de passaporte    \n",
        "    country = re.search(r\"([a-z]{3})\", passportNmbr.lower())                      #guarda na variavel country a busca pelos elementos dentro das letras digitadas pelo usuario\n",
        "    passport = re.search(\"(?i)(\\d+)\", passportNmbr.lower())                       #guarda na variavel passport a busca pelos elementos dentro do numero de passaporte digitado pelo usuario\n",
        "    country = str(country[0])                                                     #guarda na variavel c, a primeira posição, no caso as letras do país\n",
        "                                                                                    \n",
        "    if country and passport:                                                      #condição se encontrar na api e passport - faça:\n",
        "      endpoint = passportData.json()[country]                                     #salva na variavel endpoint tudo que tiver country letras no arquivo json\n",
        "      for item in endpoint:                                                       #laço for para cada item dentro da variavel dict_api - faça:\n",
        "        for value in item.values():                                               #laço for para cada valor dentro dos valores do arquivo json - faça:\n",
        "          if str(passportNmbr) == str(country) + str(value):                      #condição que compara se o numero de passaporte digitado é igual as letras + os valores que existem no arquivo json\n",
        "            return \"Deny\"                                                         #resultado da comparação se for falsa retorna internamente \"Deny\"\n",
        "      return \"Allow\"                                                              #resultado da condição for verdadeira, retorna internamente \"Allow\"\n",
        "\n",
        "\n",
        "\n",
        "  def verifyPerson(name, passportNmbr):                                           #define a função que verifica o nome e o passaporte digitado\n",
        "    person = verifyNamesInterpol(name)                                            #guarda na variavel person o nome digitado\n",
        "    passport = verifyPassportNmbr(passportNmbr)                                   #guarda na variavel passport o passaporte digitado\n",
        "\n",
        "    if passport == \"Deny\" or person == \"Deny\":                                    #condição que diz se o passaporte for negado ou o nome da pessoa for negado no pais - faça:\n",
        "      st.error(\"Você não pode entrar no país\")                                    #função do streamlit que gera uma mensagem de erro\n",
        "      return                                                                      #retorna a função do streamlit\n",
        "    st.success(\"Voce pode entrar no país\")                                        #função do streamlit que gera uma mensagem de sucesso\n",
        "    return                                                                        #retorna a função do streamlit\n",
        "\n",
        "\n",
        "\n",
        "  st.set_page_config(page_title=\"France Airport\", layout=\"centered\")              #função do streamlit que configura a pagina da web, com as cartacteristicas de titulo e layout\n",
        "  st.title(\"Imigrate Verification\")                                               #função do streamlit que gera um título na pagina da web e da um nome a ele\n",
        "  form = st.form(key=\"form\")                                                      #função do streamlit que gera um formulario\n",
        "\n",
        "  with form:                                                                      #função para gerar e abrir um formulario na tela da pagina web\n",
        "    ownerName = st.text_input('Nome do Indíviduo:')                               #guarda na variavel ownerName a função do streamlit que gera um campo para se digitar, no caso, o nome do individuo\n",
        "    passportNumber = st.text_input('Número do Passaporte:')                       #guarda na variavel passportNumber a função do streamlit que gera um campo para se digitar, caso o numero de passaporte\n",
        "    submit = st.form_submit_button(label=\"SEND\")                                  #guarda na variavel submit a função do streamlit que gera um botão\n",
        "\n",
        "\n",
        "\n",
        "  if submit:                                                                      #condição se for apertado o botão\n",
        "    if not ownerName or not passportNumber:                                       #condição se não foi digitado o nome OU o passaport no formulario\n",
        "      st.warning(\"Digite todos os campos por favor...\")                           #função do streamlit que gera uma mensagem de aviso\n",
        "    else:                                                                         #então da condição submit\n",
        "      try:\n",
        "        verifyPerson(ownerName, passportNumber)                                     #chamada do metodo criado para a verificação\n",
        "      except:\n",
        "        st.warning(\"Por favor digite o nome da pessoa, as letras e o numero de passaporte!\")\n",
        "\n",
        "\n",
        "\n",
        "if __name__=='__main__':                                                          #condição para inicializar o programa\n",
        "  main()                                                                          #chamada do programa.\n",
        "\n"
      ]
    },
    {
      "cell_type": "code",
      "execution_count": 80,
      "metadata": {
        "colab": {
          "base_uri": "https://localhost:8080/"
        },
        "id": "-VXIBsB5a_We",
        "outputId": "7e6cdb5d-ea02-4bef-8f6e-1df2e2fcde73"
      },
      "outputs": [
        {
          "output_type": "stream",
          "name": "stdout",
          "text": [
            "2022-05-02 13:21:22.931 INFO    numexpr.utils: NumExpr defaulting to 2 threads.\n",
            "\u001b[K\u001b[?25hnpx: installed 22 in 2.466s\n",
            "your url is: https://calm-baths-drop-35-221-195-122.loca.lt\n",
            "\u001b[0m\n",
            "\u001b[34m\u001b[1m  You can now view your Streamlit app in your browser.\u001b[0m\n",
            "\u001b[0m\n",
            "\u001b[34m  Network URL: \u001b[0m\u001b[1mhttp://172.28.0.2:8501\u001b[0m\n",
            "\u001b[34m  External URL: \u001b[0m\u001b[1mhttp://35.221.195.122:8501\u001b[0m\n",
            "\u001b[0m\n",
            "\u001b[34m  Stopping...\u001b[0m\n",
            "^C\n"
          ]
        }
      ],
      "source": [
        "!streamlit run app.py & npx localtunnel --port 8501                               #chamada para criação da pagina web e inicialização do app.py"
      ]
    }
  ],
  "metadata": {
    "colab": {
      "collapsed_sections": [],
      "name": "Checkpoint_Cyber_v11.ipynb",
      "provenance": [],
      "authorship_tag": "ABX9TyORldwhg3QT4CfbmLJlIESr",
      "include_colab_link": true
    },
    "kernelspec": {
      "display_name": "Python 3",
      "name": "python3"
    },
    "language_info": {
      "name": "python"
    }
  },
  "nbformat": 4,
  "nbformat_minor": 0
}