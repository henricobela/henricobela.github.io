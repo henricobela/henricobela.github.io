{
  "nbformat": 4,
  "nbformat_minor": 0,
  "metadata": {
    "colab": {
      "name": "Checkpoint_Cyber_v7.ipynb",
      "provenance": [],
      "collapsed_sections": [],
      "authorship_tag": "ABX9TyPKobsu2c9Owifl6Ml0WI1L",
      "include_colab_link": true
    },
    "kernelspec": {
      "name": "python3",
      "display_name": "Python 3"
    },
    "language_info": {
      "name": "python"
    }
  },
  "cells": [
    {
      "cell_type": "markdown",
      "metadata": {
        "id": "view-in-github",
        "colab_type": "text"
      },
      "source": [
        "<a href=\"https://colab.research.google.com/github/henricobela/henricobela.github.io/blob/main/Checkpoint_Cyber_v7.ipynb\" target=\"_parent\"><img src=\"https://colab.research.google.com/assets/colab-badge.svg\" alt=\"Open In Colab\"/></a>"
      ]
    },
    {
      "cell_type": "markdown",
      "source": [
        "#Sejam bem-vindos a minha API para INTERPOL!\n",
        "####Meu Nome é Henrico, sou aluno da FIAP (RM95985)\n",
        "--------------------------------------------------------------------------------\n",
        "#Vamos começar?\n",
        "\n",
        "####Esta aplicação trata-se de uma pagina na web criada com streamlit, utilizando a linguagem python, fuzzywuzzy, ngrok e regex. Ela faz uma verificação na base de dados da Interpol (fictícia), e uma verificação na base de dados de passaportes proibidos da França (fictícia). Com essa verificação é definida a entrada ou não de uma certa pessoa á França!\n",
        "--------------------------------------------------------------------------------\n",
        "\n",
        "#####Para começar\n",
        "\n",
        "#####Primeiro vamos instalar todos os recursos necessários para a realização da API, instalando FuzzyWuzzy, Ngrok, Streamlit/ace.\n",
        "\n",
        "--------------------------------------------------------------------------------\n"
      ],
      "metadata": {
        "id": "mGnJYetkrRmU"
      }
    },
    {
      "cell_type": "markdown",
      "source": [
        "#1º Instalando recursos"
      ],
      "metadata": {
        "id": "tLOOc9SbrV6K"
      }
    },
    {
      "cell_type": "code",
      "execution_count": 64,
      "metadata": {
        "id": "3tK_v_yCajDQ"
      },
      "outputs": [],
      "source": [
        "!pip install -q streamlit"
      ]
    },
    {
      "cell_type": "code",
      "source": [
        "!pip install -q streamlit-ace"
      ],
      "metadata": {
        "id": "ig42Itueam0b"
      },
      "execution_count": 65,
      "outputs": []
    },
    {
      "cell_type": "code",
      "source": [
        "!pip install -q fuzzywuzzy[speedup]"
      ],
      "metadata": {
        "id": "4NaBr7O6kehZ"
      },
      "execution_count": 66,
      "outputs": []
    },
    {
      "cell_type": "code",
      "source": [
        "!pip install -q pyngrok"
      ],
      "metadata": {
        "id": "2gqQSPPZk7SS"
      },
      "execution_count": 67,
      "outputs": []
    },
    {
      "cell_type": "markdown",
      "source": [
        "##2º - Criando aplicativo do streamlit para gerar a pagina web\n"
      ],
      "metadata": {
        "id": "MuP_kwylrZ43"
      }
    },
    {
      "cell_type": "code",
      "source": [
        "!streamlit run app.py &>/dev/null&"
      ],
      "metadata": {
        "id": "HGUCMre3axSP"
      },
      "execution_count": 68,
      "outputs": []
    },
    {
      "cell_type": "markdown",
      "source": [
        "##3º - Importando a biblioteca NGROK"
      ],
      "metadata": {
        "id": "tE2J3WIirZQo"
      }
    },
    {
      "cell_type": "code",
      "source": [
        "from pyngrok import ngrok"
      ],
      "metadata": {
        "id": "E_vN3HKtlKMk"
      },
      "execution_count": 69,
      "outputs": []
    },
    {
      "cell_type": "markdown",
      "source": [
        "#4º - Aplicação"
      ],
      "metadata": {
        "id": "7FiemIaTrgyz"
      }
    },
    {
      "cell_type": "code",
      "source": [
        "#criando o arquivo de aplicação .py\n",
        "%%writefile app.py  \n",
        "import streamlit as st            #importando streamlit e setando como st\n",
        "import re                         #importando o regex\n",
        "from fuzzywuzzy import process    #importando process do fuzzy\n",
        "import json                       #importando json\n",
        "import requests                   #importando requests\n",
        "\n",
        "\n",
        "def main():                                                                       #define a função que cria webpage\n",
        "  nameDataJson = requests.get(\"https://cspinheiro.github.io/interpol.json\")       #consome json dos nomes da interpol e guarda na variavel nameDataJson\n",
        "  fraDataJson = requests.get(\"https://henricobela.github.io/fra.json\")            #consome json da França com numeros de passaportes e salva na variavel fraDataJson \n",
        "\n",
        "  def verifyNamesInterpol(names):                                                 #define a função de verificação dos nomes no endpoint da interpol\n",
        "    invalidNames = nameDataJson.json()[\"interpol\"]                                #salva na variavel invalidNames tudo que tiver interpol no arquivo json\n",
        "    invalid = []                                                                  #lista invalid vazia\n",
        "\n",
        "    extraction = process.extract(names, invalidNames)                             #salva na variavel extraction, utilizando o fuzzy para extrair os nomes do endpoint\n",
        "\n",
        "    for x in extraction:                                                          #laço for para cada elemento \"x\" na variavel extraction - faça:\n",
        "      if x[1] >= 76:                                                              #condição if para threshold acima ou igual da porcentagem de 80\n",
        "        invalid.append(x)                                                         #acrescenta na lista vazia invalid o elemento \"x\"\n",
        "      if len(invalid) == 0:                                                       #condição if para o comprimento da lista invalid comparando se for 0\n",
        "        return \"Allow\"                                                            #resultado da comparação se for verdadeira retorna internamente \"Allow\"\n",
        "      return \"Deny\"                                                               #se o resultado da condição for falso, retorna internamente \"Deny\"\n",
        "\n",
        "  def verifyPassportNmbr(passportNmbr):                                           #define a função que verifica os numeros de passaporte\n",
        "    match = re.search(\"(?i)(fra)(\\d+)\", passportNmbr.lower())                     #guarda na variavel match a busca pelos elementos dentro do numero de passaporte digitado pelo usuario\n",
        "\n",
        "    if match:                                                                     #condição se \"der match\" - faça:\n",
        "      dict_fra = fraDataJson.json()[\"fra\"]                                        #salva na variavel dict_fra tudo que tiver fra no arquivo json\n",
        "      for item in dict_fra:                                                       #laço for para cada item dentro da variavel dict_fra - faça:\n",
        "        for value in item.values():                                               #laço for para cada valor dentro dos valores do arquivo json - faça:\n",
        "          if str(passportNmbr) == \"fra\"+str(value):                               #condição que compara se o numero de passaporte digitado é igual a \"fra\" + os valores que existem no arquivo json\n",
        "            return \"Deny\"                                                         #resultado da comparação se for falsa retorna internamente \"Deny\"\n",
        "      return \"Allow\"                                                              #resultado da condição for verdadeira, retorna internamente \"Allow\"\n",
        " \n",
        "  def verifyPerson(name, passportNmbr):                                           #define a função que verifica o nome e o passaporte digitado\n",
        "    person = verifyNamesInterpol(name)                                            #guarda na variavel person o nome digitado\n",
        "    passport = verifyPassportNmbr(passportNmbr)                                   #guarda na variavel passport o passaporte digitado\n",
        "\n",
        "    if passport == \"Deny\" or person == \"Deny\":                                    #condição que diz se o passaporte for negado ou o nome da pessoa for negado no pais - faça:\n",
        "      st.error(\"Você não pode entrar no país\")                                    #função do streamlit que gera uma mensagem de erro\n",
        "      return                                                                      #retorna a função do streamlit\n",
        "    st.success(\"Voce pode entrar no país\")                                        #função do streamlit que gera uma mensagem de sucesso\n",
        "    return                                                                        #retorna a função do streamlit\n",
        "\n",
        "  st.set_page_config(page_title=\"France Airport\", layout=\"centered\")              #função do streamlit que configura a pagina da web, com as cartacteristicas de titulo e layout\n",
        "  st.title(\"Imigrate Verification\")                                               #função do streamlit que gera um título na pagina da web e da um nome a ele\n",
        "  form = st.form(key=\"form\")                                                      #função do streamlit que gera um formulario\n",
        "\n",
        "  with form:                                                                      #função para gerar e abrir um formulario na tela da pagina web\n",
        "    ownerName = st.text_input('Nome do Indíviduo:')                               #guarda na variavel ownerName a função do streamlit que gera um campo para se digitar, no caso, o nome do individuo\n",
        "    passportNumber = st.text_input('Número do Passaporte:')                       #guarda na variavel passportNumber a função do streamlit que gera um campo para se digitar, caso o numero de passaporte\n",
        "    submit = st.form_submit_button(label=\"SEND\")                                  #guarda na variavel submit a função do streamlit que gera um botão\n",
        "\n",
        "  if submit:                                                                      #condição se for apertado o botão\n",
        "    if not ownerName or not passportNumber:                                       #condição se não foi digitado o nome OU o passaport no formulario\n",
        "      st.warning(\"Digite todos os campos por favor...\")                           #função do streamlit que gera uma mensagem de aviso\n",
        "    else:                                                                         #então da condição submit\n",
        "      verifyPerson(ownerName, passportNumber)                                     #chamada do metodo criado para a verificação\n",
        "\n",
        "if __name__=='__main__':                                                          #condição para inicializar o programa\n",
        "  main()                                                                          #chamada do programa."
      ],
      "metadata": {
        "colab": {
          "base_uri": "https://localhost:8080/"
        },
        "id": "oQGTYFasa01i",
        "outputId": "3e4288d0-cb37-49b1-8d23-7196e31c9c14"
      },
      "execution_count": 72,
      "outputs": [
        {
          "output_type": "stream",
          "name": "stdout",
          "text": [
            "Overwriting app.py\n"
          ]
        }
      ]
    },
    {
      "cell_type": "code",
      "source": [
        "!streamlit run app.py & npx localtunnel --port 8501                               #chamada para criação da pagina web e inicialização do app.py"
      ],
      "metadata": {
        "colab": {
          "base_uri": "https://localhost:8080/"
        },
        "id": "-VXIBsB5a_We",
        "outputId": "2e889063-0745-475b-8791-3bc8fc77afcf"
      },
      "execution_count": 73,
      "outputs": [
        {
          "output_type": "stream",
          "name": "stdout",
          "text": [
            "2022-04-28 19:47:37.972 INFO    numexpr.utils: NumExpr defaulting to 2 threads.\n",
            "\u001b[K\u001b[?25h\u001b[0m\n",
            "\u001b[34m\u001b[1m  You can now view your Streamlit app in your browser.\u001b[0m\n",
            "\u001b[0m\n",
            "\u001b[34m  Network URL: \u001b[0m\u001b[1mhttp://172.28.0.2:8501\u001b[0m\n",
            "\u001b[34m  External URL: \u001b[0m\u001b[1mhttp://34.125.241.38:8501\u001b[0m\n",
            "\u001b[0m\n",
            "npx: installed 22 in 2.801s\n",
            "your url is: https://tough-octopus-86.loca.lt\n",
            "\u001b[34m  Stopping...\u001b[0m\n",
            "^C\n"
          ]
        }
      ]
    }
  ]
}