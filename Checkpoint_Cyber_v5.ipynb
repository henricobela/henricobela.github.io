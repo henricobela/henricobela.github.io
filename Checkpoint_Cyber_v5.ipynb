{
  "nbformat": 4,
  "nbformat_minor": 0,
  "metadata": {
    "colab": {
      "name": "Checkpoint_Cyber_v5.ipynb",
      "provenance": [],
      "collapsed_sections": [],
      "authorship_tag": "ABX9TyP201vvfNDuoxZigIHJ2owf",
      "include_colab_link": true
    },
    "kernelspec": {
      "name": "python3",
      "display_name": "Python 3"
    },
    "language_info": {
      "name": "python"
    }
  },
  "cells": [
    {
      "cell_type": "markdown",
      "metadata": {
        "id": "view-in-github",
        "colab_type": "text"
      },
      "source": [
        "<a href=\"https://colab.research.google.com/github/henricobela/checkpoint_Cyber/blob/main/Checkpoint_Cyber_v5.ipynb\" target=\"_parent\"><img src=\"https://colab.research.google.com/assets/colab-badge.svg\" alt=\"Open In Colab\"/></a>"
      ]
    },
    {
      "cell_type": "code",
      "execution_count": 32,
      "metadata": {
        "id": "3tK_v_yCajDQ"
      },
      "outputs": [],
      "source": [
        "!pip install -q streamlit"
      ]
    },
    {
      "cell_type": "code",
      "source": [
        "!pip install -q streamlit-ace"
      ],
      "metadata": {
        "id": "ig42Itueam0b"
      },
      "execution_count": 33,
      "outputs": []
    },
    {
      "cell_type": "code",
      "source": [
        "!pip install -q fuzzywuzzy[speedup]"
      ],
      "metadata": {
        "id": "4NaBr7O6kehZ"
      },
      "execution_count": 34,
      "outputs": []
    },
    {
      "cell_type": "code",
      "source": [
        "!pip install -q pyngrok"
      ],
      "metadata": {
        "id": "2gqQSPPZk7SS"
      },
      "execution_count": 35,
      "outputs": []
    },
    {
      "cell_type": "code",
      "source": [
        "!streamlit run app.py &>/dev/null&"
      ],
      "metadata": {
        "id": "HGUCMre3axSP"
      },
      "execution_count": 36,
      "outputs": []
    },
    {
      "cell_type": "code",
      "source": [
        "from pyngrok import ngrok"
      ],
      "metadata": {
        "id": "E_vN3HKtlKMk"
      },
      "execution_count": 37,
      "outputs": []
    },
    {
      "cell_type": "code",
      "source": [
        "%%writefile app.py  \n",
        "import streamlit as st            #importando streamlit e setando como st\n",
        "import re                         #importando o regex\n",
        "from fuzzywuzzy import process    #importando process do fuzzy\n",
        "import json                       #importando json\n",
        "import requests                   #importando requests\n",
        "\n",
        "\n",
        "def main():                                                                       #função que cria webpage\n",
        "  nameDataJson = requests.get(\"https://cspinheiro.github.io/interpol.json\")       #consome json dos nomes da interpol e guarda na variavel nameDataJson\n",
        "  fraDataJson = requests.get(\"https://henricobela.github.io/fra.json\")            #consome json da França com numeros de passaportes e salva na variavel fraDataJson \n",
        "\n",
        "  def verifyNamesInterpol(names):\n",
        "    invalidNames = nameDataJson.json()[\"interpol\"]\n",
        "    invalid = []\n",
        "\n",
        "    for names in invalidNames:\n",
        "      for x, y in names.items():\n",
        "        invalid.append(y)\n",
        "\n",
        "    extraction = process.extract(str(names), invalid)\n",
        "\n",
        "    for x in extraction:\n",
        "      if x[1] >= 70:\n",
        "        return \"Deny\"\n",
        "      return \"Allow\"\n",
        "\n",
        "\n",
        "  def verifyPassportNmbr(passportNmbr):\n",
        "    verifyPassport = re.search(\"\\d+\", passportNmbr)\n",
        "    invalidPassport = fraDataJson.json()[\"fra\"]\n",
        "\n",
        "    if int(verifyPassport[0]) in invalidPassport:\n",
        "      return \"Deny\"\n",
        "    return \"Allow\"\n",
        "\n",
        "\n",
        "  def verifyPerson(name, passportNmbr):\n",
        "    person = verifyNamesInterpol(name)\n",
        "    passport = verifyPassportNmbr(passportNmbr)\n",
        "\n",
        "    if passport == \"Deny\" or person == \"Deny\":\n",
        "      st.error(\"Você não pode entrar no país\")\n",
        "      return\n",
        "    st.success(\"Voce pode entrar no país\")\n",
        "    return\n",
        "\n",
        "  st.set_page_config(page_title=\"France Airport\", layout=\"centered\")\n",
        "  st.title(\"Imigration Verification\")\n",
        "  form = st.form(key=\"form\")\n",
        "\n",
        "  with form:\n",
        "    ownerName = st.text_input('Nome do Indíviduo:')\n",
        "    passportNumber = st.text_input('Número do Passaporte:')\n",
        "    submit = st.form_submit_button(label=\"SEND\")\n",
        "\n",
        "  if submit:\n",
        "    if not ownerName or not passportNumber:\n",
        "      st.warning(\"Digite todos os campos por favor...\")\n",
        "    else:\n",
        "      verifyPerson(ownerName, passportNumber)\n",
        "\n",
        "if __name__=='__main__': \n",
        "  main() \n"
      ],
      "metadata": {
        "colab": {
          "base_uri": "https://localhost:8080/"
        },
        "id": "oQGTYFasa01i",
        "outputId": "ef48a362-0ac7-4184-a81e-bf2d02ddbff2"
      },
      "execution_count": 50,
      "outputs": [
        {
          "output_type": "stream",
          "name": "stdout",
          "text": [
            "Overwriting app.py\n"
          ]
        }
      ]
    },
    {
      "cell_type": "code",
      "source": [
        "!streamlit run app.py & npx localtunnel --port 8501"
      ],
      "metadata": {
        "colab": {
          "base_uri": "https://localhost:8080/"
        },
        "id": "-VXIBsB5a_We",
        "outputId": "f49710f6-e26c-4d48-df00-383ae9edc701"
      },
      "execution_count": 51,
      "outputs": [
        {
          "output_type": "stream",
          "name": "stdout",
          "text": [
            "2022-04-28 16:18:06.598 INFO    numexpr.utils: NumExpr defaulting to 2 threads.\n",
            "\u001b[0m\n",
            "\u001b[34m\u001b[1m  You can now view your Streamlit app in your browser.\u001b[0m\n",
            "\u001b[0m\n",
            "\u001b[34m  Network URL: \u001b[0m\u001b[1mhttp://172.28.0.2:8501\u001b[0m\n",
            "\u001b[34m  External URL: \u001b[0m\u001b[1mhttp://34.125.241.38:8501\u001b[0m\n",
            "\u001b[0m\n",
            "\u001b[K\u001b[?25hnpx: installed 22 in 2.972s\n",
            "your url is: https://quiet-dragon-56.loca.lt\n",
            "\u001b[34m  Stopping...\u001b[0m\n",
            "^C\n"
          ]
        }
      ]
    }
  ]
}