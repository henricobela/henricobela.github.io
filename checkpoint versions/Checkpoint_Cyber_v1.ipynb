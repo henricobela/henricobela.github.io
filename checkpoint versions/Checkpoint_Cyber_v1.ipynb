{
  "nbformat": 4,
  "nbformat_minor": 0,
  "metadata": {
    "colab": {
      "name": "Checkpoint_Cyber_v1.ipynb",
      "provenance": [],
      "collapsed_sections": [],
      "authorship_tag": "ABX9TyPBP15yk0grRgI7yMS5dae9",
      "include_colab_link": true
    },
    "kernelspec": {
      "name": "python3",
      "display_name": "Python 3"
    },
    "language_info": {
      "name": "python"
    }
  },
  "cells": [
    {
      "cell_type": "markdown",
      "metadata": {
        "id": "view-in-github",
        "colab_type": "text"
      },
      "source": [
        "<a href=\"https://colab.research.google.com/github/henricobela/henricobela.github.io/blob/main/Checkpoint_Cyber_v1.ipynb\" target=\"_parent\"><img src=\"https://colab.research.google.com/assets/colab-badge.svg\" alt=\"Open In Colab\"/></a>"
      ]
    },
    {
      "cell_type": "markdown",
      "source": [
        "#Sejam bem-vindos a minha API para INTERPOL!\n",
        "####Meu Nome é Henrico, sou aluno da FIAP (RM95985)\n",
        "--------------------------------------------------------------------------------\n",
        "#Vamos começar?\n",
        "--------------------------------------------------------------------------------\n",
        "\n",
        "#####Primeiro vamos instalar todos os recursos necessários para a realização da API, instalando FuzzyWuzzy, Ngrok, Streamlit/ace e nao menos importante o Regex.\n",
        "\n",
        "--------------------------------------------------------------------------------\n"
      ],
      "metadata": {
        "id": "2LHxtOL1jOvV"
      }
    },
    {
      "cell_type": "markdown",
      "source": [
        "#1º Instalando recursos"
      ],
      "metadata": {
        "id": "JgGHUpLCluje"
      }
    },
    {
      "cell_type": "code",
      "execution_count": null,
      "metadata": {
        "id": "9upLCgpNjKNk"
      },
      "outputs": [],
      "source": [
        "#instalando o fuzzy\n",
        "!pip install fuzzywuzzy[speedup]"
      ]
    },
    {
      "cell_type": "code",
      "source": [
        "#instalando o Ngrok\n",
        "!pip install -q pyngrok"
      ],
      "metadata": {
        "id": "Lct_5zJnkyGE"
      },
      "execution_count": null,
      "outputs": []
    },
    {
      "cell_type": "code",
      "source": [
        "#instalando o streamlit\n",
        "!pip install -q streamlit"
      ],
      "metadata": {
        "id": "ZFt1B3Auk5-f"
      },
      "execution_count": null,
      "outputs": []
    },
    {
      "cell_type": "code",
      "source": [
        "#instalando o streamlit_ace\n",
        "!pip install -q streamlit_ace"
      ],
      "metadata": {
        "id": "Y5rOnWL9lDJ4"
      },
      "execution_count": null,
      "outputs": []
    },
    {
      "cell_type": "code",
      "source": [
        "#executando o ambiente\n",
        "!streamlit run app.py &>/dev/null&"
      ],
      "metadata": {
        "id": "S69ZVsRYlPxY"
      },
      "execution_count": null,
      "outputs": []
    },
    {
      "cell_type": "markdown",
      "source": [
        "#2º Importando a biblioteca NGROK"
      ],
      "metadata": {
        "id": "2DbfecLulmPZ"
      }
    },
    {
      "cell_type": "code",
      "source": [
        "#importando ngrok\n",
        "from pyngrok import ngrok"
      ],
      "metadata": {
        "id": "ITq2D7aUlPzu"
      },
      "execution_count": null,
      "outputs": []
    },
    {
      "cell_type": "code",
      "source": [
        "#Importando streamlit \n",
        "import streamlit as st"
      ],
      "metadata": {
        "id": "sowVncIimaM_"
      },
      "execution_count": null,
      "outputs": []
    },
    {
      "cell_type": "code",
      "source": [
        "#importando regex\n",
        "import re"
      ],
      "metadata": {
        "id": "xonoT_0Mot2e"
      },
      "execution_count": null,
      "outputs": []
    },
    {
      "cell_type": "code",
      "source": [
        "#Criando o arquivo de aplicação .py\n",
        "%%writefile app.py\n",
        "\n",
        "# Essa função é para criação da webpage  \n",
        "def main():  \n",
        "    # Elementos da webpage\n",
        "    html_temp = \"\"\" \n",
        "    <div style =\"background-color:red;padding:13px\"> \n",
        "    <h1 style =\"color:white;text-align:center;\">iFood</h1> \n",
        "    </div> \n",
        "    \"\"\"      \n",
        "    # Função do stramlit que faz o display da webpage\n",
        "    st.markdown(html_temp, unsafe_allow_html = True) \n",
        "   # As linhas abaixo criam as caixas na qual o usuário vai entrar com dados da pessoa que quer o empréstimo para fazer a Predição\n",
        "    titulo = st.text_input('Título do anúncio')\n",
        "      \n",
        "    def getMatchRegex(field):\n",
        "      match = re.search(field, field.lower())\n",
        "      if st.button(\"Verificar\"): \n",
        "        if match:\n",
        "          st.success('Pode entrar no país? Sim')\n",
        "        else:\n",
        "          st.success('Pode entrar no país? Não')\n",
        "\n",
        "    getMatchRegex(titulo)\n",
        "\n",
        "if __name__=='__main__': \n",
        "    main()  "
      ],
      "metadata": {
        "id": "-9aLnQV7lP5R"
      },
      "execution_count": null,
      "outputs": []
    },
    {
      "cell_type": "code",
      "source": [
        ""
      ],
      "metadata": {
        "id": "IfKT1UYqlP7r"
      },
      "execution_count": null,
      "outputs": []
    }
  ]
}