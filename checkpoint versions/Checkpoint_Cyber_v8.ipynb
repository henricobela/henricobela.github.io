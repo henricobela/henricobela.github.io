{
  "nbformat": 4,
  "nbformat_minor": 0,
  "metadata": {
    "colab": {
      "name": "Checkpoint_Cyber_v8.ipynb",
      "provenance": [],
      "collapsed_sections": [],
      "authorship_tag": "ABX9TyPFIF5t/BSMOGCfcTc+1/oW",
      "include_colab_link": true
    },
    "kernelspec": {
      "name": "python3",
      "display_name": "Python 3"
    },
    "language_info": {
      "name": "python"
    }
  },
  "cells": [
    {
      "cell_type": "markdown",
      "metadata": {
        "id": "view-in-github",
        "colab_type": "text"
      },
      "source": [
        "<a href=\"https://colab.research.google.com/github/henricobela/henricobela.github.io/blob/main/Checkpoint_Cyber_v8.ipynb\" target=\"_parent\"><img src=\"https://colab.research.google.com/assets/colab-badge.svg\" alt=\"Open In Colab\"/></a>"
      ]
    },
    {
      "cell_type": "markdown",
      "source": [
        "#Sejam bem-vindos a minha API para INTERPOL!\n",
        "####Meu Nome é Henrico, sou aluno da FIAP (RM95985)\n",
        "--------------------------------------------------------------------------------\n",
        "#Vamos começar?\n",
        "\n",
        "####Esta aplicação trata-se de uma pagina na web criada com streamlit, utilizando a linguagem python, fuzzywuzzy, ngrok e regex. Ela faz uma verificação na base de dados da Interpol (fictícia), e uma verificação na base de dados de passaportes proibidos da França (fictícia). Com essa verificação é definida a entrada ou não de uma certa pessoa á França!\n",
        "--------------------------------------------------------------------------------\n",
        "\n",
        "#####Para começar\n",
        "\n",
        "#####Primeiro vamos instalar todos os recursos necessários para a realização da API, instalando FuzzyWuzzy, Ngrok, Streamlit/ace.\n",
        "\n",
        "--------------------------------------------------------------------------------\n"
      ],
      "metadata": {
        "id": "mGnJYetkrRmU"
      }
    },
    {
      "cell_type": "markdown",
      "source": [
        "#1º Instalando recursos"
      ],
      "metadata": {
        "id": "tLOOc9SbrV6K"
      }
    },
    {
      "cell_type": "code",
      "execution_count": 1,
      "metadata": {
        "id": "3tK_v_yCajDQ",
        "colab": {
          "base_uri": "https://localhost:8080/"
        },
        "outputId": "66bd21f5-ecc4-4b14-c4f6-8706d1ed4a14"
      },
      "outputs": [
        {
          "output_type": "stream",
          "name": "stdout",
          "text": [
            "\u001b[K     |████████████████████████████████| 10.1 MB 15.3 MB/s \n",
            "\u001b[K     |████████████████████████████████| 181 kB 56.9 MB/s \n",
            "\u001b[K     |████████████████████████████████| 76 kB 5.5 MB/s \n",
            "\u001b[K     |████████████████████████████████| 4.3 MB 46.7 MB/s \n",
            "\u001b[K     |████████████████████████████████| 111 kB 60.3 MB/s \n",
            "\u001b[K     |████████████████████████████████| 164 kB 43.0 MB/s \n",
            "\u001b[K     |████████████████████████████████| 63 kB 1.5 MB/s \n",
            "\u001b[K     |████████████████████████████████| 131 kB 39.8 MB/s \n",
            "\u001b[K     |████████████████████████████████| 130 kB 21.3 MB/s \n",
            "\u001b[K     |████████████████████████████████| 428 kB 52.9 MB/s \n",
            "\u001b[K     |████████████████████████████████| 793 kB 52.7 MB/s \n",
            "\u001b[K     |████████████████████████████████| 381 kB 71.8 MB/s \n",
            "\u001b[?25h  Building wheel for blinker (setup.py) ... \u001b[?25l\u001b[?25hdone\n",
            "\u001b[31mERROR: pip's dependency resolver does not currently take into account all the packages that are installed. This behaviour is the source of the following dependency conflicts.\n",
            "jupyter-console 5.2.0 requires prompt-toolkit<2.0.0,>=1.0.0, but you have prompt-toolkit 3.0.29 which is incompatible.\n",
            "google-colab 1.0.0 requires ipykernel~=4.10, but you have ipykernel 6.13.0 which is incompatible.\n",
            "google-colab 1.0.0 requires ipython~=5.5.0, but you have ipython 7.32.0 which is incompatible.\n",
            "google-colab 1.0.0 requires tornado~=5.1.0; python_version >= \"3.0\", but you have tornado 6.1 which is incompatible.\u001b[0m\n"
          ]
        }
      ],
      "source": [
        "!pip install -q streamlit"
      ]
    },
    {
      "cell_type": "code",
      "source": [
        "!pip install -q streamlit-ace"
      ],
      "metadata": {
        "id": "ig42Itueam0b",
        "colab": {
          "base_uri": "https://localhost:8080/"
        },
        "outputId": "608ab200-6fd6-49db-fb05-cbbfc2ad668e"
      },
      "execution_count": 2,
      "outputs": [
        {
          "output_type": "stream",
          "name": "stdout",
          "text": [
            "\u001b[K     |████████████████████████████████| 3.6 MB 12.2 MB/s \n",
            "\u001b[?25h"
          ]
        }
      ]
    },
    {
      "cell_type": "code",
      "source": [
        "!pip install -q fuzzywuzzy[speedup]"
      ],
      "metadata": {
        "id": "4NaBr7O6kehZ",
        "colab": {
          "base_uri": "https://localhost:8080/"
        },
        "outputId": "bdbaa884-18e8-498c-cf52-916f77284319"
      },
      "execution_count": 3,
      "outputs": [
        {
          "output_type": "stream",
          "name": "stdout",
          "text": [
            "\u001b[?25l\r\u001b[K     |██████▌                         | 10 kB 2.4 MB/s eta 0:00:01\r\u001b[K     |█████████████                   | 20 kB 1.8 MB/s eta 0:00:01\r\u001b[K     |███████████████████▌            | 30 kB 1.6 MB/s eta 0:00:01\r\u001b[K     |██████████████████████████      | 40 kB 716 kB/s eta 0:00:01\r\u001b[K     |████████████████████████████████| 50 kB 772 kB/s \n",
            "\u001b[?25h  Building wheel for python-levenshtein (setup.py) ... \u001b[?25l\u001b[?25hdone\n"
          ]
        }
      ]
    },
    {
      "cell_type": "code",
      "source": [
        "!pip install -q pyngrok"
      ],
      "metadata": {
        "id": "2gqQSPPZk7SS",
        "colab": {
          "base_uri": "https://localhost:8080/"
        },
        "outputId": "1de6d9ab-766b-409c-d51c-e4e8a9c98249"
      },
      "execution_count": 4,
      "outputs": [
        {
          "output_type": "stream",
          "name": "stdout",
          "text": [
            "\u001b[K     |████████████████████████████████| 745 kB 1.4 MB/s \n",
            "\u001b[?25h  Building wheel for pyngrok (setup.py) ... \u001b[?25l\u001b[?25hdone\n"
          ]
        }
      ]
    },
    {
      "cell_type": "markdown",
      "source": [
        "##2º - Criando aplicativo do streamlit para gerar a pagina web\n"
      ],
      "metadata": {
        "id": "MuP_kwylrZ43"
      }
    },
    {
      "cell_type": "code",
      "source": [
        "!streamlit run app.py &>/dev/null&"
      ],
      "metadata": {
        "id": "HGUCMre3axSP"
      },
      "execution_count": 5,
      "outputs": []
    },
    {
      "cell_type": "markdown",
      "source": [
        "##3º - Importando a biblioteca NGROK"
      ],
      "metadata": {
        "id": "tE2J3WIirZQo"
      }
    },
    {
      "cell_type": "code",
      "source": [
        "from pyngrok import ngrok"
      ],
      "metadata": {
        "id": "E_vN3HKtlKMk"
      },
      "execution_count": 6,
      "outputs": []
    },
    {
      "cell_type": "markdown",
      "source": [
        "#4º - Aplicação"
      ],
      "metadata": {
        "id": "7FiemIaTrgyz"
      }
    },
    {
      "cell_type": "code",
      "source": [
        "#criando o arquivo de aplicação .py\n",
        "%%writefile app.py  \n",
        "import streamlit as st            #importando streamlit e setando como st\n",
        "import re                         #importando o regex\n",
        "from fuzzywuzzy import process    #importando process do fuzzy\n",
        "import json                       #importando json\n",
        "import requests                   #importando requests\n",
        "\n",
        "\n",
        "def main():                                                                       #define a função que cria webpage\n",
        "  nameDataJson = requests.get(\"https://cspinheiro.github.io/interpol.json\")       #consome json dos nomes da interpol e guarda na variavel nameDataJson\n",
        "  fraDataJson = requests.get(\"https://henricobela.github.io/fra.json\")            #consome json da França com numeros de passaportes e salva na variavel fraDataJson\n",
        "\n",
        "  def verifyNamesInterpol(names):                                                 #define a função de verificação dos nomes no endpoint da interpol\n",
        "    invalidNames = nameDataJson.json()[\"interpol\"]                                #salva na variavel invalidNames tudo que tiver interpol no arquivo json\n",
        "    invalid = []                                                                  #lista invalid vazia\n",
        "\n",
        "    extraction = process.extract(names, invalidNames)                             #salva na variavel extraction, utilizando o fuzzy para extrair os nomes do endpoint\n",
        "\n",
        "    for x in extraction:                                                          #laço for para cada elemento \"x\" na variavel extraction - faça:\n",
        "      if x[1] >= 76:                                                              #condição if para threshold acima ou igual da porcentagem de 80\n",
        "        invalid.append(x)                                                         #acrescenta na lista vazia invalid o elemento \"x\"\n",
        "      if len(invalid) == 0:                                                       #condição if para o comprimento da lista invalid comparando se for 0\n",
        "        return \"Allow\"                                                            #resultado da comparação se for verdadeira retorna internamente \"Allow\"\n",
        "      return \"Deny\"                                                               #se o resultado da condição for falso, retorna internamente \"Deny\"\n",
        "\n",
        "  def verifyPassportNmbr(passportNmbr):                                           #define a função que verifica os numeros de passaporte\n",
        "    api = re.search(r\"([a-z][a-z][a-z])\", passportNmbr.lower())                   #guarda na variavel api a busca pelos elementos dentro das letras digitadas pelo usuario\n",
        "    passport = re.search(\"(?i)(\\d+)\", passportNmbr.lower())                       #guarda na variavel passport a busca pelos elementos dentro do numero de passaporte digitado pelo usuario\n",
        "    x = str(api[0])                                                               #guarda na variavel x, a primeira posição da api\n",
        "                                                                                  \n",
        "    if api and passport:                                                          #condição se encontrar na api e passport - faça:\n",
        "      dict_api = fraDataJson.json()[x]                                            #salva na variavel dict_api tudo que tiver x letras no arquivo json\n",
        "      for item in dict_api:                                                       #laço for para cada item dentro da variavel dict_api - faça:\n",
        "        for value in item.values():                                               #laço for para cada valor dentro dos valores do arquivo json - faça:\n",
        "          if str(passportNmbr) == str(x) +str(value):                             #condição que compara se o numero de passaporte digitado é igual as letras + os valores que existem no arquivo json\n",
        "            return \"Deny\"                                                         #resultado da comparação se for falsa retorna internamente \"Deny\"\n",
        "      return \"Allow\"                                                              #resultado da condição for verdadeira, retorna internamente \"Allow\"\n",
        " \n",
        "  def verifyPerson(name, passportNmbr):                                           #define a função que verifica o nome e o passaporte digitado\n",
        "    person = verifyNamesInterpol(name)                                            #guarda na variavel person o nome digitado\n",
        "    passport = verifyPassportNmbr(passportNmbr)                                   #guarda na variavel passport o passaporte digitado\n",
        "\n",
        "    if passport == \"Deny\" or person == \"Deny\":                                    #condição que diz se o passaporte for negado ou o nome da pessoa for negado no pais - faça:\n",
        "      st.error(\"Você não pode entrar no país\")                                    #função do streamlit que gera uma mensagem de erro\n",
        "      return                                                                      #retorna a função do streamlit\n",
        "    st.success(\"Voce pode entrar no país\")                                        #função do streamlit que gera uma mensagem de sucesso\n",
        "    return                                                                        #retorna a função do streamlit\n",
        "\n",
        "  st.set_page_config(page_title=\"France Airport\", layout=\"centered\")              #função do streamlit que configura a pagina da web, com as cartacteristicas de titulo e layout\n",
        "  st.title(\"Imigrate Verification\")                                               #função do streamlit que gera um título na pagina da web e da um nome a ele\n",
        "  form = st.form(key=\"form\")                                                      #função do streamlit que gera um formulario\n",
        "\n",
        "  with form:                                                                      #função para gerar e abrir um formulario na tela da pagina web\n",
        "    ownerName = st.text_input('Nome do Indíviduo:')                               #guarda na variavel ownerName a função do streamlit que gera um campo para se digitar, no caso, o nome do individuo\n",
        "    passportNumber = st.text_input('Número do Passaporte:')                       #guarda na variavel passportNumber a função do streamlit que gera um campo para se digitar, caso o numero de passaporte\n",
        "    submit = st.form_submit_button(label=\"SEND\")                                  #guarda na variavel submit a função do streamlit que gera um botão\n",
        "\n",
        "  if submit:                                                                      #condição se for apertado o botão\n",
        "    if not ownerName or not passportNumber:                                       #condição se não foi digitado o nome OU o passaport no formulario\n",
        "      st.warning(\"Digite todos os campos por favor...\")                           #função do streamlit que gera uma mensagem de aviso\n",
        "    else:                                                                         #então da condição submit\n",
        "      verifyPerson(ownerName, passportNumber)                                     #chamada do metodo criado para a verificação\n",
        "\n",
        "if __name__=='__main__':                                                          #condição para inicializar o programa\n",
        "  main()                                                                          #chamada do programa."
      ],
      "metadata": {
        "colab": {
          "base_uri": "https://localhost:8080/"
        },
        "id": "oQGTYFasa01i",
        "outputId": "53f41f4b-b819-4ad9-b438-872bcc4b4c27"
      },
      "execution_count": 49,
      "outputs": [
        {
          "output_type": "stream",
          "name": "stdout",
          "text": [
            "Overwriting app.py\n"
          ]
        }
      ]
    },
    {
      "cell_type": "code",
      "source": [
        "!streamlit run app.py & npx localtunnel --port 8501                               #chamada para criação da pagina web e inicialização do app.py"
      ],
      "metadata": {
        "colab": {
          "base_uri": "https://localhost:8080/"
        },
        "id": "-VXIBsB5a_We",
        "outputId": "70fe4289-ce62-4a9f-97e4-94973eb85491"
      },
      "execution_count": null,
      "outputs": [
        {
          "output_type": "stream",
          "name": "stdout",
          "text": [
            "2022-04-29 02:08:06.867 INFO    numexpr.utils: NumExpr defaulting to 2 threads.\n",
            "\u001b[K\u001b[?25hnpx: installed 22 in 2.79s\n",
            "\u001b[0m\n",
            "\u001b[34m\u001b[1m  You can now view your Streamlit app in your browser.\u001b[0m\n",
            "\u001b[0m\n",
            "\u001b[34m  Network URL: \u001b[0m\u001b[1mhttp://172.28.0.2:8501\u001b[0m\n",
            "\u001b[34m  External URL: \u001b[0m\u001b[1mhttp://34.90.78.251:8501\u001b[0m\n",
            "\u001b[0m\n",
            "your url is: https://massive-insect-9.loca.lt\n",
            "2022-04-29 02:09:06.477 Traceback (most recent call last):\n",
            "  File \"/usr/local/lib/python3.7/dist-packages/streamlit/scriptrunner/script_runner.py\", line 443, in _run_script\n",
            "    exec(code, module.__dict__)\n",
            "  File \"/content/app.py\", line 64, in <module>\n",
            "    main()                                                                          #chamada do programa.\n",
            "  File \"/content/app.py\", line 61, in main\n",
            "    verifyPerson(ownerName, passportNumber)                                     #chamada do metodo criado para a verificação\n",
            "  File \"/content/app.py\", line 40, in verifyPerson\n",
            "    passport = verifyPassportNmbr(passportNmbr)                                   #guarda na variavel passport o passaporte digitado\n",
            "  File \"/content/app.py\", line 28, in verifyPassportNmbr\n",
            "    x = str(api[0])                                                               #guarda na variavel x, a primeira posição da api\n",
            "TypeError: 'NoneType' object is not subscriptable\n",
            "\n"
          ]
        }
      ]
    }
  ]
}