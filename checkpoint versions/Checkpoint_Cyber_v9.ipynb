{
  "cells": [
    {
      "cell_type": "markdown",
      "metadata": {
        "id": "view-in-github",
        "colab_type": "text"
      },
      "source": [
        "<a href=\"https://colab.research.google.com/github/henricobela/checkpoint1_Cyber2022/blob/main/Checkpoint_Cyber_v9.ipynb\" target=\"_parent\"><img src=\"https://colab.research.google.com/assets/colab-badge.svg\" alt=\"Open In Colab\"/></a>"
      ]
    },
    {
      "cell_type": "markdown",
      "metadata": {
        "id": "mGnJYetkrRmU"
      },
      "source": [
        "#Sejam bem-vindos a minha API para INTERPOL!\n",
        "####Meu Nome é Henrico, sou aluno da FIAP (RM95985)\n",
        "--------------------------------------------------------------------------------\n",
        "#Vamos começar?\n",
        "\n",
        "####Esta aplicação trata-se de uma pagina na web criada com streamlit, utilizando a linguagem python, fuzzywuzzy, ngrok e regex. Ela faz uma verificação na base de dados da Interpol (fictícia), e uma verificação na base de dados de passaportes proibidos da França (fictícia). Com essa verificação é definida a entrada ou não de uma certa pessoa á França!\n",
        "--------------------------------------------------------------------------------\n",
        "\n",
        "#####Para começar\n",
        "\n",
        "#####Primeiro vamos instalar todos os recursos necessários para a realização da API, instalando FuzzyWuzzy, Ngrok, Streamlit/ace.\n",
        "\n",
        "--------------------------------------------------------------------------------\n"
      ]
    },
    {
      "cell_type": "markdown",
      "metadata": {
        "id": "tLOOc9SbrV6K"
      },
      "source": [
        "#1º Instalando recursos"
      ]
    },
    {
      "cell_type": "code",
      "execution_count": 1,
      "metadata": {
        "id": "3tK_v_yCajDQ",
        "colab": {
          "base_uri": "https://localhost:8080/"
        },
        "outputId": "38f7e9f7-8f6c-4a4a-9126-efd96e49db64"
      },
      "outputs": [
        {
          "output_type": "stream",
          "name": "stdout",
          "text": [
            "\u001b[K     |████████████████████████████████| 10.1 MB 6.4 MB/s \n",
            "\u001b[K     |████████████████████████████████| 164 kB 45.5 MB/s \n",
            "\u001b[K     |████████████████████████████████| 4.3 MB 49.6 MB/s \n",
            "\u001b[K     |████████████████████████████████| 181 kB 45.7 MB/s \n",
            "\u001b[K     |████████████████████████████████| 111 kB 37.3 MB/s \n",
            "\u001b[K     |████████████████████████████████| 76 kB 4.6 MB/s \n",
            "\u001b[K     |████████████████████████████████| 63 kB 1.5 MB/s \n",
            "\u001b[K     |████████████████████████████████| 131 kB 46.0 MB/s \n",
            "\u001b[K     |████████████████████████████████| 793 kB 43.3 MB/s \n",
            "\u001b[K     |████████████████████████████████| 428 kB 39.7 MB/s \n",
            "\u001b[K     |████████████████████████████████| 130 kB 49.9 MB/s \n",
            "\u001b[K     |████████████████████████████████| 381 kB 59.7 MB/s \n",
            "\u001b[?25h  Building wheel for blinker (setup.py) ... \u001b[?25l\u001b[?25hdone\n",
            "\u001b[31mERROR: pip's dependency resolver does not currently take into account all the packages that are installed. This behaviour is the source of the following dependency conflicts.\n",
            "jupyter-console 5.2.0 requires prompt-toolkit<2.0.0,>=1.0.0, but you have prompt-toolkit 3.0.29 which is incompatible.\n",
            "google-colab 1.0.0 requires ipykernel~=4.10, but you have ipykernel 6.13.0 which is incompatible.\n",
            "google-colab 1.0.0 requires ipython~=5.5.0, but you have ipython 7.33.0 which is incompatible.\n",
            "google-colab 1.0.0 requires tornado~=5.1.0; python_version >= \"3.0\", but you have tornado 6.1 which is incompatible.\u001b[0m\n"
          ]
        }
      ],
      "source": [
        "!pip install -q streamlit"
      ]
    },
    {
      "cell_type": "code",
      "execution_count": 2,
      "metadata": {
        "id": "ig42Itueam0b",
        "colab": {
          "base_uri": "https://localhost:8080/"
        },
        "outputId": "f2dafeb3-e219-46d7-8f90-5b677b7b4cd6"
      },
      "outputs": [
        {
          "output_type": "stream",
          "name": "stdout",
          "text": [
            "\u001b[K     |████████████████████████████████| 3.6 MB 8.8 MB/s \n",
            "\u001b[?25h"
          ]
        }
      ],
      "source": [
        "!pip install -q streamlit-ace"
      ]
    },
    {
      "cell_type": "code",
      "execution_count": 3,
      "metadata": {
        "id": "4NaBr7O6kehZ",
        "colab": {
          "base_uri": "https://localhost:8080/"
        },
        "outputId": "f790fb44-e0fc-4f3f-de79-7ce197561a25"
      },
      "outputs": [
        {
          "output_type": "stream",
          "name": "stdout",
          "text": [
            "\u001b[?25l\r\u001b[K     |██████▌                         | 10 kB 14.4 MB/s eta 0:00:01\r\u001b[K     |█████████████                   | 20 kB 19.8 MB/s eta 0:00:01\r\u001b[K     |███████████████████▌            | 30 kB 24.7 MB/s eta 0:00:01\r\u001b[K     |██████████████████████████      | 40 kB 7.8 MB/s eta 0:00:01\r\u001b[K     |████████████████████████████████| 50 kB 3.9 MB/s \n",
            "\u001b[?25h  Building wheel for python-levenshtein (setup.py) ... \u001b[?25l\u001b[?25hdone\n"
          ]
        }
      ],
      "source": [
        "!pip install -q fuzzywuzzy[speedup]"
      ]
    },
    {
      "cell_type": "code",
      "execution_count": 4,
      "metadata": {
        "id": "2gqQSPPZk7SS",
        "colab": {
          "base_uri": "https://localhost:8080/"
        },
        "outputId": "3540a4f4-07d2-4c9d-d7bb-b74ee031fdcb"
      },
      "outputs": [
        {
          "output_type": "stream",
          "name": "stdout",
          "text": [
            "\u001b[?25l\r\u001b[K     |▍                               | 10 kB 22.8 MB/s eta 0:00:01\r\u001b[K     |▉                               | 20 kB 28.7 MB/s eta 0:00:01\r\u001b[K     |█▎                              | 30 kB 22.8 MB/s eta 0:00:01\r\u001b[K     |█▊                              | 40 kB 14.5 MB/s eta 0:00:01\r\u001b[K     |██▏                             | 51 kB 5.9 MB/s eta 0:00:01\r\u001b[K     |██▋                             | 61 kB 6.9 MB/s eta 0:00:01\r\u001b[K     |███                             | 71 kB 7.6 MB/s eta 0:00:01\r\u001b[K     |███▌                            | 81 kB 6.4 MB/s eta 0:00:01\r\u001b[K     |████                            | 92 kB 7.1 MB/s eta 0:00:01\r\u001b[K     |████▍                           | 102 kB 7.7 MB/s eta 0:00:01\r\u001b[K     |████▉                           | 112 kB 7.7 MB/s eta 0:00:01\r\u001b[K     |█████▎                          | 122 kB 7.7 MB/s eta 0:00:01\r\u001b[K     |█████▊                          | 133 kB 7.7 MB/s eta 0:00:01\r\u001b[K     |██████▏                         | 143 kB 7.7 MB/s eta 0:00:01\r\u001b[K     |██████▋                         | 153 kB 7.7 MB/s eta 0:00:01\r\u001b[K     |███████                         | 163 kB 7.7 MB/s eta 0:00:01\r\u001b[K     |███████▌                        | 174 kB 7.7 MB/s eta 0:00:01\r\u001b[K     |████████                        | 184 kB 7.7 MB/s eta 0:00:01\r\u001b[K     |████████▍                       | 194 kB 7.7 MB/s eta 0:00:01\r\u001b[K     |████████▉                       | 204 kB 7.7 MB/s eta 0:00:01\r\u001b[K     |█████████▎                      | 215 kB 7.7 MB/s eta 0:00:01\r\u001b[K     |█████████▊                      | 225 kB 7.7 MB/s eta 0:00:01\r\u001b[K     |██████████▏                     | 235 kB 7.7 MB/s eta 0:00:01\r\u001b[K     |██████████▌                     | 245 kB 7.7 MB/s eta 0:00:01\r\u001b[K     |███████████                     | 256 kB 7.7 MB/s eta 0:00:01\r\u001b[K     |███████████▍                    | 266 kB 7.7 MB/s eta 0:00:01\r\u001b[K     |███████████▉                    | 276 kB 7.7 MB/s eta 0:00:01\r\u001b[K     |████████████▎                   | 286 kB 7.7 MB/s eta 0:00:01\r\u001b[K     |████████████▊                   | 296 kB 7.7 MB/s eta 0:00:01\r\u001b[K     |█████████████▏                  | 307 kB 7.7 MB/s eta 0:00:01\r\u001b[K     |█████████████▋                  | 317 kB 7.7 MB/s eta 0:00:01\r\u001b[K     |██████████████                  | 327 kB 7.7 MB/s eta 0:00:01\r\u001b[K     |██████████████▌                 | 337 kB 7.7 MB/s eta 0:00:01\r\u001b[K     |███████████████                 | 348 kB 7.7 MB/s eta 0:00:01\r\u001b[K     |███████████████▍                | 358 kB 7.7 MB/s eta 0:00:01\r\u001b[K     |███████████████▉                | 368 kB 7.7 MB/s eta 0:00:01\r\u001b[K     |████████████████▎               | 378 kB 7.7 MB/s eta 0:00:01\r\u001b[K     |████████████████▊               | 389 kB 7.7 MB/s eta 0:00:01\r\u001b[K     |█████████████████▏              | 399 kB 7.7 MB/s eta 0:00:01\r\u001b[K     |█████████████████▋              | 409 kB 7.7 MB/s eta 0:00:01\r\u001b[K     |██████████████████              | 419 kB 7.7 MB/s eta 0:00:01\r\u001b[K     |██████████████████▌             | 430 kB 7.7 MB/s eta 0:00:01\r\u001b[K     |███████████████████             | 440 kB 7.7 MB/s eta 0:00:01\r\u001b[K     |███████████████████▍            | 450 kB 7.7 MB/s eta 0:00:01\r\u001b[K     |███████████████████▉            | 460 kB 7.7 MB/s eta 0:00:01\r\u001b[K     |████████████████████▎           | 471 kB 7.7 MB/s eta 0:00:01\r\u001b[K     |████████████████████▋           | 481 kB 7.7 MB/s eta 0:00:01\r\u001b[K     |█████████████████████           | 491 kB 7.7 MB/s eta 0:00:01\r\u001b[K     |█████████████████████▌          | 501 kB 7.7 MB/s eta 0:00:01\r\u001b[K     |██████████████████████          | 512 kB 7.7 MB/s eta 0:00:01\r\u001b[K     |██████████████████████▍         | 522 kB 7.7 MB/s eta 0:00:01\r\u001b[K     |██████████████████████▉         | 532 kB 7.7 MB/s eta 0:00:01\r\u001b[K     |███████████████████████▎        | 542 kB 7.7 MB/s eta 0:00:01\r\u001b[K     |███████████████████████▊        | 552 kB 7.7 MB/s eta 0:00:01\r\u001b[K     |████████████████████████▏       | 563 kB 7.7 MB/s eta 0:00:01\r\u001b[K     |████████████████████████▋       | 573 kB 7.7 MB/s eta 0:00:01\r\u001b[K     |█████████████████████████       | 583 kB 7.7 MB/s eta 0:00:01\r\u001b[K     |█████████████████████████▌      | 593 kB 7.7 MB/s eta 0:00:01\r\u001b[K     |██████████████████████████      | 604 kB 7.7 MB/s eta 0:00:01\r\u001b[K     |██████████████████████████▍     | 614 kB 7.7 MB/s eta 0:00:01\r\u001b[K     |██████████████████████████▉     | 624 kB 7.7 MB/s eta 0:00:01\r\u001b[K     |███████████████████████████▎    | 634 kB 7.7 MB/s eta 0:00:01\r\u001b[K     |███████████████████████████▊    | 645 kB 7.7 MB/s eta 0:00:01\r\u001b[K     |████████████████████████████▏   | 655 kB 7.7 MB/s eta 0:00:01\r\u001b[K     |████████████████████████████▋   | 665 kB 7.7 MB/s eta 0:00:01\r\u001b[K     |█████████████████████████████   | 675 kB 7.7 MB/s eta 0:00:01\r\u001b[K     |█████████████████████████████▌  | 686 kB 7.7 MB/s eta 0:00:01\r\u001b[K     |██████████████████████████████  | 696 kB 7.7 MB/s eta 0:00:01\r\u001b[K     |██████████████████████████████▍ | 706 kB 7.7 MB/s eta 0:00:01\r\u001b[K     |██████████████████████████████▊ | 716 kB 7.7 MB/s eta 0:00:01\r\u001b[K     |███████████████████████████████▏| 727 kB 7.7 MB/s eta 0:00:01\r\u001b[K     |███████████████████████████████▋| 737 kB 7.7 MB/s eta 0:00:01\r\u001b[K     |████████████████████████████████| 745 kB 7.7 MB/s \n",
            "\u001b[?25h  Building wheel for pyngrok (setup.py) ... \u001b[?25l\u001b[?25hdone\n"
          ]
        }
      ],
      "source": [
        "!pip install -q pyngrok"
      ]
    },
    {
      "cell_type": "markdown",
      "metadata": {
        "id": "MuP_kwylrZ43"
      },
      "source": [
        "##2º - Criando aplicativo do streamlit para gerar a pagina web\n"
      ]
    },
    {
      "cell_type": "code",
      "execution_count": 5,
      "metadata": {
        "id": "HGUCMre3axSP"
      },
      "outputs": [],
      "source": [
        "!streamlit run app.py &>/dev/null&"
      ]
    },
    {
      "cell_type": "markdown",
      "metadata": {
        "id": "tE2J3WIirZQo"
      },
      "source": [
        "##3º - Importando a biblioteca NGROK"
      ]
    },
    {
      "cell_type": "code",
      "execution_count": 6,
      "metadata": {
        "id": "E_vN3HKtlKMk"
      },
      "outputs": [],
      "source": [
        "from pyngrok import ngrok"
      ]
    },
    {
      "cell_type": "markdown",
      "metadata": {
        "id": "7FiemIaTrgyz"
      },
      "source": [
        "#4º - Aplicação"
      ]
    },
    {
      "cell_type": "code",
      "execution_count": 46,
      "metadata": {
        "colab": {
          "base_uri": "https://localhost:8080/"
        },
        "id": "oQGTYFasa01i",
        "outputId": "d8ccf679-ba5a-47b7-d939-9fb3a54a16c4"
      },
      "outputs": [
        {
          "output_type": "stream",
          "name": "stdout",
          "text": [
            "Overwriting app.py\n"
          ]
        }
      ],
      "source": [
        "#criando o arquivo de aplicação .py\n",
        "%%writefile app.py  \n",
        "import streamlit as st            #importando streamlit e setando como st\n",
        "import re                         #importando o regex\n",
        "from fuzzywuzzy import process    #importando process do fuzzy\n",
        "import json                       #importando json\n",
        "import requests                   #importando requests\n",
        "\n",
        "\n",
        "def main():                                                                       #define a função que cria webpage\n",
        "  st.set_page_config(page_title=\"France Airport\", layout=\"centered\")              #função do streamlit que configura a pagina da web, com as cartacteristicas de titulo e layout\n",
        "  st.title(\"Imigrate Verification\")                                               #função do streamlit que gera um título na pagina da web e da um nome a ele\n",
        "  form = st.form(key=\"form\")                                                      #função do streamlit que gera um formulario\n",
        "\n",
        "  with form:                                                                      #função para gerar e abrir um formulario na tela da pagina web\n",
        "    ownerName = st.text_input(\"Nome do Indíviduo:\")                               #guarda na variavel ownerName a função do streamlit que gera um campo para se digitar, no caso, o nome do individuo\n",
        "    passportNumber = st.text_input(\"Número do Passaporte:\")                       #guarda na variavel passportNumber a função do streamlit que gera um campo para se digitar, caso o numero de passaporte\n",
        "    #passportNumber = re.sub(\"\\D\", \"\", passportNumber)                             #função do streamlit que substitui todos caracteres por nada*********ainda testando**********\n",
        "    submit = st.form_submit_button(label=\"SEND\")                                  #guarda na variavel submit a função do streamlit que gera um botão\n",
        "\n",
        "  nameDataJson = requests.get(\"https://cspinheiro.github.io/interpol.json\")       #consome json dos nomes da interpol e guarda na variavel nameDataJson\n",
        "  fraDataJson = requests.get(\"https://henricobela.github.io/fra.json\")            #consome json da França com numeros de passaportes e salva na variavel fraDataJson\n",
        "\n",
        "  def verifyNamesInterpol(names):                                                 #define a função de verificação dos nomes no endpoint da interpol\n",
        "    invalidNames = nameDataJson.json()[\"interpol\"]                                #salva na variavel invalidNames tudo que tiver interpol no arquivo json\n",
        "    invalid = []                                                                  #lista invalid vazia\n",
        "\n",
        "    extraction = process.extract(names, invalidNames)                             #salva na variavel extraction, utilizando o fuzzy para extrair os nomes do endpoint\n",
        "\n",
        "    for x in extraction:                                                          #laço for para cada elemento \"x\" na variavel extraction - faça:\n",
        "      if x[1] >= 76:                                                              #condição if para threshold acima ou igual da porcentagem de 80\n",
        "        invalid.append(x)                                                         #acrescenta na lista vazia invalid o elemento \"x\"\n",
        "      if len(invalid) == 0:                                                       #condição if para o comprimento da lista invalid comparando se for 0\n",
        "        return \"Allow\"                                                            #resultado da comparação se for verdadeira retorna internamente \"Allow\"\n",
        "      return \"Deny\"                                                               #se o resultado da condição for falso, retorna internamente \"Deny\"\n",
        "\n",
        "  def verifyPassportNmbr(passportNmbr):                                           #define a função que verifica os numeros de passaporte\n",
        "    api = re.search(r\"(\\D{3})\", passportNmbr.lower())                             #guarda na variavel api a busca pelos elementos dentro das letras digitadas pelo usuario\n",
        "    passport = re.search(\"(?i)(\\d+)\", passportNmbr.lower())                       #guarda na variavel passport a busca pelos elementos dentro do numero de passaporte digitado pelo usuario \n",
        "    x = str(api[0])\n",
        "    #y = int(passport[1])\n",
        "\n",
        "    if api and passport:                                                          #condição se encontrar na api e passport - faça:\n",
        "      x_api = fraDataJson.json()[x]                                               #salva na variavel dict_api tudo que tiver x letras no arquivo json\n",
        "      #y_passport = fraDataJson.json()[y]\n",
        "      for item in x_api:                                                          #laço for para cada item dentro da variavel dict_api - faça:\n",
        "        for value in item.values():                                               #laço for para cada valor dentro dos valores do arquivo json - faça:\n",
        "          if passportNmbr == str(x) + str(value) or passportNmbr == value:        #condição que compara se o numero de passaporte digitado é igual as letras + os valores que existem no arquivo json\n",
        "            return \"Deny\"                                                         #resultado da comparação se for falsa retorna internamente \"Deny\"\n",
        "      return \"Allow\"                                                              #resultado da condição for verdadeira, retorna internamente \"Allow\"\n",
        " \n",
        "  def verifyPerson(name, passportNmbr):                                           #define a função que verifica o nome e o passaporte digitado\n",
        "    person = verifyNamesInterpol(name)                                            #guarda na variavel person o nome digitado\n",
        "    passport = verifyPassportNmbr(passportNmbr)                                   #guarda na variavel passport o passaporte digitado\n",
        "\n",
        "    if passport == \"Deny\" or person == \"Deny\":                                    #condição que diz se o passaporte for negado ou o nome da pessoa for negado no pais - faça:\n",
        "      st.error(\"Você não pode entrar no país\")                                    #função do streamlit que gera uma mensagem de erro\n",
        "      return                                                                      #retorna a função do streamlit\n",
        "    st.success(\"Voce pode entrar no país\")                                        #função do streamlit que gera uma mensagem de sucesso\n",
        "    return                                                                        #retorna a função do streamlit\n",
        "\n",
        "  if submit:                                                                      #condição se for apertado o botão\n",
        "    if not ownerName or not passportNumber:                                       #condição se não foi digitado o nome OU o passaport no formulario\n",
        "      st.warning(\"Digite todos os campos por favor...\")                           #função do streamlit que gera uma mensagem de aviso\n",
        "    else:                                                                         #então da condição submit\n",
        "      verifyPerson(ownerName, passportNumber)                                     #chamada do metodo criado para a verificação\n",
        "\n",
        "if __name__=='__main__':                                                          #condição para inicializar o programa\n",
        "  main()                                                                          #chamada do programa."
      ]
    },
    {
      "cell_type": "code",
      "execution_count": 47,
      "metadata": {
        "colab": {
          "base_uri": "https://localhost:8080/"
        },
        "id": "-VXIBsB5a_We",
        "outputId": "93290369-31d0-49a3-b982-099530ba5921"
      },
      "outputs": [
        {
          "output_type": "stream",
          "name": "stdout",
          "text": [
            "2022-05-01 23:01:50.076 INFO    numexpr.utils: NumExpr defaulting to 2 threads.\n",
            "\u001b[0m\n",
            "\u001b[34m\u001b[1m  You can now view your Streamlit app in your browser.\u001b[0m\n",
            "\u001b[0m\n",
            "\u001b[34m  Network URL: \u001b[0m\u001b[1mhttp://172.28.0.2:8501\u001b[0m\n",
            "\u001b[34m  External URL: \u001b[0m\u001b[1mhttp://34.125.97.81:8501\u001b[0m\n",
            "\u001b[0m\n",
            "\u001b[K\u001b[?25hnpx: installed 22 in 3.196s\n",
            "your url is: https://giant-parrots-eat-34-125-97-81.loca.lt\n",
            "\u001b[34m  Stopping...\u001b[0m\n",
            "^C\n"
          ]
        }
      ],
      "source": [
        "!streamlit run app.py & npx localtunnel --port 8501                               #chamada para criação da pagina web e inicialização do app.py"
      ]
    }
  ],
  "metadata": {
    "colab": {
      "collapsed_sections": [],
      "name": "Checkpoint_Cyber_v9.ipynb",
      "provenance": [],
      "authorship_tag": "ABX9TyNYDpk2tDCM+UOlOY2ri+BA",
      "include_colab_link": true
    },
    "kernelspec": {
      "display_name": "Python 3",
      "name": "python3"
    },
    "language_info": {
      "name": "python"
    }
  },
  "nbformat": 4,
  "nbformat_minor": 0
}