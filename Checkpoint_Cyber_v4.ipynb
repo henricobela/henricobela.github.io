{
  "nbformat": 4,
  "nbformat_minor": 0,
  "metadata": {
    "colab": {
      "name": "Checkpoint_Cyber_v4.ipynb",
      "provenance": [],
      "authorship_tag": "ABX9TyMXDU8rmJWiUIzMKwYqzAcg",
      "include_colab_link": true
    },
    "kernelspec": {
      "name": "python3",
      "display_name": "Python 3"
    },
    "language_info": {
      "name": "python"
    }
  },
  "cells": [
    {
      "cell_type": "markdown",
      "metadata": {
        "id": "view-in-github",
        "colab_type": "text"
      },
      "source": [
        "<a href=\"https://colab.research.google.com/github/henricobela/henricobela.github.io/blob/main/Checkpoint_Cyber_v4.ipynb\" target=\"_parent\"><img src=\"https://colab.research.google.com/assets/colab-badge.svg\" alt=\"Open In Colab\"/></a>"
      ]
    },
    {
      "cell_type": "code",
      "execution_count": 18,
      "metadata": {
        "id": "3tK_v_yCajDQ"
      },
      "outputs": [],
      "source": [
        "!pip install -q streamlit"
      ]
    },
    {
      "cell_type": "code",
      "source": [
        "!pip install -q streamlit-ace"
      ],
      "metadata": {
        "id": "ig42Itueam0b"
      },
      "execution_count": 19,
      "outputs": []
    },
    {
      "cell_type": "code",
      "source": [
        "!pip install -q fuzzywuzzy[speedup]"
      ],
      "metadata": {
        "id": "4NaBr7O6kehZ"
      },
      "execution_count": 20,
      "outputs": []
    },
    {
      "cell_type": "code",
      "source": [
        "!pip install -q pyngrok"
      ],
      "metadata": {
        "id": "2gqQSPPZk7SS"
      },
      "execution_count": 21,
      "outputs": []
    },
    {
      "cell_type": "code",
      "source": [
        "!streamlit run app.py &>/dev/null&"
      ],
      "metadata": {
        "id": "HGUCMre3axSP"
      },
      "execution_count": 22,
      "outputs": []
    },
    {
      "cell_type": "code",
      "source": [
        "from pyngrok import ngrok"
      ],
      "metadata": {
        "id": "E_vN3HKtlKMk"
      },
      "execution_count": 23,
      "outputs": []
    },
    {
      "cell_type": "code",
      "source": [
        "%%writefile app.py  \n",
        "import streamlit as st            #importando streamlit e setando como st\n",
        "import re                         #importando o regex\n",
        "from fuzzywuzzy import process    #importando process do fuzzy\n",
        "import json                       #importando json\n",
        "import requests                   #importando requests\n",
        "\n",
        "\n",
        "def main():                                                                       #função que cria webpage\n",
        "  nameDataJson = requests.get(\"https://cspinheiro.github.io/interpol.json\")       #consome json dos nomes da interpol e guarda na variavel nameDataJson\n",
        "  fraDataJson = requests.get(\"https://henricobela.github.io/fra.json\")            #consome json da França com numeros de passaportes e salva na variavel fraDataJson \n",
        "\n",
        "  def verifyNamesInterpol(names):\n",
        "    invalidNames = nameDataJson.json()[\"interpol\"]\n",
        "    invalid = []\n",
        "\n",
        "    for names in invalidNames:\n",
        "      for x, y in names.items():\n",
        "        invalid.append(y)\n",
        "\n",
        "    extraction = process.extract(str(names), invalid)\n",
        "\n",
        "    for x in extraction:\n",
        "      if x[1] >= 95:\n",
        "        return \"Deny\"\n",
        "      return \"Allow\"\n",
        "\n",
        "\n",
        "  def verifyPassportNmbr(passportNmbr):\n",
        "    verifyPassport = re.findAll(\"[0-9]+\", passportNmbr)\n",
        "    invalidPassport = fraDataJson.json(\"[0-9]+\")\n",
        "\n",
        "    if int(verifyPassport[0]) in invalidPassport:\n",
        "      return \"Deny\"\n",
        "    return \"Allow\"\n",
        "\n",
        "\n",
        "  def verifyPerson(name, passportNmbr):\n",
        "    person = verifyNamesInterpol(name)\n",
        "    passport = verifyPassportNmbr(passportNmbr)\n",
        "\n",
        "    if passport == \"Deny\" or person == \"Deny\":\n",
        "      st.error(\"Você não pode entrar no país\")\n",
        "      return\n",
        "    st.success(\"Voce pode entrar no país\")\n",
        "    return\n",
        "\n",
        "  st.set_page_config(page_title=\"France Airport\", layout=\"centered\")\n",
        "  st.title(\"Imigration Verification\")\n",
        "  form = st.form(key=\"form\")\n",
        "\n",
        "  with form:\n",
        "    ownerName = st.text_input('Nome do Indíviduo:')\n",
        "    passportNumber = st.text_input('Número do Passaporte:')\n",
        "    submit = st.form_submit_button(label=\"SEND\")\n",
        "\n",
        "  if submit:\n",
        "    verifyPerson(ownerName, passportNumber)\n",
        "\n",
        "if __name__=='__main__': \n",
        "  main() \n",
        "\n",
        "\n",
        "# st.set_page_config(page_title=\"France Airport\", layout=\"centered\")\n",
        "# st.title(\"Imigration Verification\")\n",
        "# form = st.form(key=\"form\")\n",
        "\n",
        "# with form:\n",
        "#   ownerName = st.text_input('Nome do Indíviduo:')\n",
        "#   passportNumber = st.text_input('Número do Passaporte:')\n",
        "#   submit = st.form_submit_button(label=\"SEND\")\n",
        "\n",
        "\n"
      ],
      "metadata": {
        "colab": {
          "base_uri": "https://localhost:8080/"
        },
        "id": "oQGTYFasa01i",
        "outputId": "809743ed-f2b8-4fd1-bc37-71e979d469ad"
      },
      "execution_count": 24,
      "outputs": [
        {
          "output_type": "stream",
          "name": "stdout",
          "text": [
            "Overwriting app.py\n"
          ]
        }
      ]
    },
    {
      "cell_type": "code",
      "source": [
        "!streamlit run app.py & npx localtunnel --port 8501"
      ],
      "metadata": {
        "colab": {
          "base_uri": "https://localhost:8080/"
        },
        "id": "-VXIBsB5a_We",
        "outputId": "bc61fade-fbc3-4fd7-c910-3721975ccfbf"
      },
      "execution_count": 25,
      "outputs": [
        {
          "output_type": "stream",
          "name": "stdout",
          "text": [
            "2022-04-28 00:44:36.740 INFO    numexpr.utils: NumExpr defaulting to 2 threads.\n",
            "\u001b[K\u001b[?25h\u001b[0m\n",
            "\u001b[34m\u001b[1m  You can now view your Streamlit app in your browser.\u001b[0m\n",
            "\u001b[0m\n",
            "\u001b[34m  Network URL: \u001b[0m\u001b[1mhttp://172.28.0.2:8501\u001b[0m\n",
            "\u001b[34m  External URL: \u001b[0m\u001b[1mhttp://104.196.65.243:8501\u001b[0m\n",
            "\u001b[0m\n",
            "npx: installed 22 in 6.093s\n",
            "your url is: https://giant-wasp-77.loca.lt\n",
            "2022-04-28 00:45:33.959 Traceback (most recent call last):\n",
            "  File \"/usr/local/lib/python3.7/dist-packages/streamlit/scriptrunner/script_runner.py\", line 443, in _run_script\n",
            "    exec(code, module.__dict__)\n",
            "  File \"/content/app.py\", line 60, in <module>\n",
            "    main()\n",
            "  File \"/content/app.py\", line 57, in main\n",
            "    verifyPerson(ownerName, passportNumber)\n",
            "  File \"/content/app.py\", line 39, in verifyPerson\n",
            "    passport = verifyPassportNmbr(passportNmbr)\n",
            "  File \"/content/app.py\", line 29, in verifyPassportNmbr\n",
            "    verifyPassport = re.findAll(\"[0-9]+\", passportNmbr)\n",
            "AttributeError: module 're' has no attribute 'findAll'\n",
            "\n",
            "2022-04-28 00:45:42.669 Traceback (most recent call last):\n",
            "  File \"/usr/local/lib/python3.7/dist-packages/streamlit/scriptrunner/script_runner.py\", line 443, in _run_script\n",
            "    exec(code, module.__dict__)\n",
            "  File \"/content/app.py\", line 60, in <module>\n",
            "    main()\n",
            "  File \"/content/app.py\", line 57, in main\n",
            "    verifyPerson(ownerName, passportNumber)\n",
            "  File \"/content/app.py\", line 39, in verifyPerson\n",
            "    passport = verifyPassportNmbr(passportNmbr)\n",
            "  File \"/content/app.py\", line 29, in verifyPassportNmbr\n",
            "    verifyPassport = re.findAll(\"[0-9]+\", passportNmbr)\n",
            "AttributeError: module 're' has no attribute 'findAll'\n",
            "\n",
            "\u001b[34m  Stopping...\u001b[0m\n",
            "^C\n"
          ]
        }
      ]
    }
  ]
}